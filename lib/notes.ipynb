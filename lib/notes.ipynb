{
 "cells": [
  {
   "attachments": {},
   "cell_type": "markdown",
   "metadata": {},
   "source": [
    "<h3 style=\"color: lightgreen;\">Import SQL</h3>\n",
    "sqlite3 is a python module that helps us interact with databases using SQL langauge\n",
    "\n",
    "<a href=\"https://1drv.ms/u/s!AoYG-9xuwdAJgU6ze0McmNt7cS4x?e=GYZY2g\">click here to see my notes on this...</a>"
   ]
  },
  {
   "cell_type": "code",
   "execution_count": 1,
   "metadata": {},
   "outputs": [],
   "source": [
    "import sqlite3"
   ]
  },
  {
   "attachments": {},
   "cell_type": "markdown",
   "metadata": {},
   "source": [
    "<h3 style=\"color: lightgreen;\">Create a Cursor Object</h3>\n",
    "\n",
    "sqlite3 is a module that returns an object that is also called \"sqlite3\". Out the gate, this comes with a method called <span style=\"color: orange;\">connect()</span>, which takes the path to a specific database file as it's argument. It then returns a connection object (we've decided to name this \"CONN\" but name it whatever you like). \n",
    "\n",
    "CONN has a method called <span style=\"color: orange;\">cursor()</span>, which returns a \"cursor\" object. Again, this is an object within the big hierchy of classes in the sqlite3 module, and so it has some prebuilt methods already in it (<a href=\"https://1drv.ms/u/s!AoYG-9xuwdAJgU6ze0McmNt7cS4x?e=GYZY2g\">refer again to my notes on this for some more detail</a>)"
   ]
  },
  {
   "cell_type": "code",
   "execution_count": 4,
   "metadata": {},
   "outputs": [],
   "source": [
    "CONN = sqlite3.connect('dogs.db')\n",
    "CURSOR = CONN.cursor()"
   ]
  },
  {
   "attachments": {},
   "cell_type": "markdown",
   "metadata": {},
   "source": [
    "<h3 style=\"color: lightgreen;\">Dog Class</h3>\n",
    "\n",
    "The Dog class is what we're using to model a dog. Every instance of a dog has a name, a breed, and an id"
   ]
  },
  {
   "cell_type": "code",
   "execution_count": 6,
   "metadata": {},
   "outputs": [],
   "source": [
    "class Dog:\n",
    "    def __init__(self, name, breed, id=None): \n",
    "        self.name = name\n",
    "        self.breed = breed\n",
    "        self.id = id\n",
    "        \n",
    "    \n",
    "        "
   ]
  },
  {
   "attachments": {},
   "cell_type": "markdown",
   "metadata": {},
   "source": [
    "<h3 style=\"color: lightgreen;\">Creating a Table</h3>\n",
    "\n",
    "The OOP counterpart to a database table is a class. Each row in this table corresponds to a specific instance of that class. And each column corresponds to a specific attribute of that class. \n",
    "\n",
    "The cursor object (which is the instance of the Cursor class that we instantiated earlier), has a method called <span style=\"color: orange;\">execute()</span>, which will execute any SQL statement we pass into it. "
   ]
  },
  {
   "cell_type": "code",
   "execution_count": 15,
   "metadata": {},
   "outputs": [],
   "source": [
    "def create_table(): \n",
    "        CURSOR.execute('''\n",
    "            CREATE TABLE IF NOT EXISTS dogs (\n",
    "                id INTEGER PRIMARY KEY,\n",
    "                name TEXT NOT NULL,\n",
    "                breed TEXT NOT NULL\n",
    "            )\n",
    "        ''')\n",
    "        CONN.commit()"
   ]
  },
  {
   "attachments": {},
   "cell_type": "markdown",
   "metadata": {},
   "source": [
    "<h3 style=\"color: lightgreen;\">Drop Table</h3>\n",
    "\n",
    "'DROP TABLE IF EXISTS dogs' is the SQL statement for dropping a table. In the statement there is conditional logic that checks to see if a \"dogs\" table already exists. \n",
    "\n",
    "In the given code, <span style=\"color: orange;\">commit()</span> is used to commit the changes made to the database after executing the SQL statement that creates a new table dogs with three columns id, name, and breed. Calling commit is comparable to calling POST as a client. We can write all the SQL we want, but if we're not committing via the <span style=\"color: orange;\">commit()</span> method, then our changes aren't being sent to the database. Be sure to call the commit method on the CONN object. \n",
    "\n",
    "\n",
    "\n",
    "\n"
   ]
  },
  {
   "cell_type": "code",
   "execution_count": 18,
   "metadata": {},
   "outputs": [],
   "source": [
    "def drop_table(): \n",
    "        CURSOR.execute('DROP TABLE IF EXISTS dogs')\n",
    "        CONN.commit()"
   ]
  },
  {
   "attachments": {},
   "cell_type": "markdown",
   "metadata": {},
   "source": [
    "<h3 style=\"color: lightgreen;\">Save</h3>\n",
    "\n",
    "Similar setup as the drop_table function, except using the SQL statements for inserting into the database (just think SAVE = INSERT. We're persisting the data in this method)\n",
    "\n",
    "Note the question marks '?'. These are placeholders which is a best practice for SQL. It's a feature specific to sql that helps prevent SQL injection (nasty cyber hack). If we did string interpolation instead, then we'd be making our database vulnerable to malicious attacks. "
   ]
  },
  {
   "cell_type": "code",
   "execution_count": 9,
   "metadata": {},
   "outputs": [],
   "source": [
    "def save(self): \n",
    "    CURSOR.execute('INSERT INTO dogs (name, breed) VALUES (?, ?)', (self.name, self.breed))\n",
    "    CONN.commit()\n",
    "    self.id = CURSOR.lastrowid"
   ]
  },
  {
   "attachments": {},
   "cell_type": "markdown",
   "metadata": {},
   "source": [
    "<h3 style=\"color: lightgreen;\">Create</h3>\n",
    "\n",
    "The next few methods are class methods, denoted by the @classmethod decorators. When a class method is called, we are calling a method that will affect all of the instances of that class. Just remember that we need to pass cls as an argument. This is a reserved keyword much like the self arguments when referring to just the instances of the class"
   ]
  },
  {
   "cell_type": "code",
   "execution_count": 10,
   "metadata": {},
   "outputs": [],
   "source": [
    "@classmethod\n",
    "def create(cls, name, breed):\n",
    "    dog = cls(name, breed)\n",
    "    dog.save()\n",
    "    return dog"
   ]
  },
  {
   "cell_type": "code",
   "execution_count": 11,
   "metadata": {},
   "outputs": [],
   "source": [
    "# This class method is used to create a new Dog instance from a row in the database.\n",
    "# It takes a single argument, `row`, which is a tuple containing the data for a single row.\n",
    "# The first element of the tuple is the id, the second is the name, and the third is the breed.\n",
    "# The method creates a new Dog instance with the name and breed from the row,\n",
    "# and sets the id attribute to the value of the id column in the row.\n",
    "# The new Dog instance is returned by the method.\n",
    "\n",
    "@classmethod\n",
    "def new_from_db(cls, row):\n",
    "    id, name, breed = row\n",
    "    dog = cls(name, breed)\n",
    "    dog.id = id\n",
    "    return dog"
   ]
  },
  {
   "cell_type": "code",
   "execution_count": 16,
   "metadata": {},
   "outputs": [],
   "source": [
    "@classmethod\n",
    "def get_all(cls):\n",
    "    CURSOR.execute(\"SELECT * FROM dogs\")\n",
    "    rows = CURSOR.fetchall()\n",
    "    dogs = []\n",
    "    for row in rows:\n",
    "        dog = Dog.new_from_db(row)\n",
    "        dogs.append(dog)\n",
    "    return dogs"
   ]
  },
  {
   "cell_type": "code",
   "execution_count": null,
   "metadata": {},
   "outputs": [],
   "source": [
    "@classmethod\n",
    "def find_by_name(cls, name):\n",
    "    CURSOR.execute('SELECT * FROM dogs WHERE name = ?', (name,))\n",
    "    row = CURSOR.fetchone()\n",
    "    if row:\n",
    "        return cls.new_from_db(row)\n",
    "    else:\n",
    "        return None"
   ]
  },
  {
   "cell_type": "code",
   "execution_count": null,
   "metadata": {},
   "outputs": [],
   "source": [
    "@classmethod\n",
    "def find_by_id(cls, id):\n",
    "    CURSOR.execute('SELECT * FROM dogs WHERE id=?', (id,))\n",
    "    result = CURSOR.fetchone()\n",
    "    if result:\n",
    "        return cls.new_from_db(result)"
   ]
  },
  {
   "cell_type": "code",
   "execution_count": null,
   "metadata": {},
   "outputs": [],
   "source": [
    "@classmethod\n",
    "def find_or_create_by(cls, name, breed):\n",
    "    \n",
    "    CURSOR.execute('SELECT * FROM dogs WHERE name=? AND breed=?', (name, breed))\n",
    "    row = CURSOR.fetchone()\n",
    "    if row:\n",
    "     \n",
    "        return cls.new_from_db(row)\n",
    "    else:\n",
    "       \n",
    "        dog = cls(name, breed)\n",
    "        dog.save()\n",
    "        return dog"
   ]
  },
  {
   "cell_type": "code",
   "execution_count": 14,
   "metadata": {},
   "outputs": [],
   "source": [
    "def update(self):\n",
    "    if self.id is None:\n",
    "        return\n",
    "\n",
    "    CURSOR.execute('UPDATE dogs SET name = ?, breed = ? WHERE id = ?', (self.name, self.breed, self.id))\n",
    "    CONN.commit()"
   ]
  }
 ],
 "metadata": {
  "kernelspec": {
   "display_name": "Python 3",
   "language": "python",
   "name": "python3"
  },
  "language_info": {
   "codemirror_mode": {
    "name": "ipython",
    "version": 3
   },
   "file_extension": ".py",
   "mimetype": "text/x-python",
   "name": "python",
   "nbconvert_exporter": "python",
   "pygments_lexer": "ipython3",
   "version": "3.8.13"
  },
  "orig_nbformat": 4,
  "vscode": {
   "interpreter": {
    "hash": "732ba15880a66f95b243d9dd345d99169de54aa5136374683b22cad081ff286c"
   }
  }
 },
 "nbformat": 4,
 "nbformat_minor": 2
}
