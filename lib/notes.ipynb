{
 "cells": [
  {
   "attachments": {},
   "cell_type": "markdown",
   "metadata": {},
   "source": [
    "<h3 style=\"color: lightgreen;\">Import SQL</h3>\n",
    "sqlite3 is a python module that helps us interact with databases using SQL langauge\n",
    "\n",
    "<a href=\"http://google.com\">click here to see my notes on this...</a>"
   ]
  },
  {
   "cell_type": "code",
   "execution_count": 1,
   "metadata": {},
   "outputs": [],
   "source": [
    "import sqlite3"
   ]
  },
  {
   "attachments": {},
   "cell_type": "markdown",
   "metadata": {},
   "source": [
    "<h3 style=\"color: lightgreen;\">Create a Cursor Object</h3>"
   ]
  },
  {
   "cell_type": "code",
   "execution_count": 4,
   "metadata": {},
   "outputs": [],
   "source": [
    "CONN = sqlite3.connect('dogs.db')\n",
    "CURSOR = CONN.cursor()"
   ]
  },
  {
   "attachments": {},
   "cell_type": "markdown",
   "metadata": {},
   "source": [
    "<h3 style=\"color: lightgreen;\">Dog Class</h3>"
   ]
  },
  {
   "cell_type": "code",
   "execution_count": 6,
   "metadata": {},
   "outputs": [],
   "source": [
    "class Dog:\n",
    "    def __init__(self, name, breed, id=None): \n",
    "        self.name = name\n",
    "        self.breed = breed\n",
    "        self.id = id\n",
    "        \n",
    "    \n",
    "        "
   ]
  },
  {
   "attachments": {},
   "cell_type": "markdown",
   "metadata": {},
   "source": [
    "asdsf"
   ]
  },
  {
   "cell_type": "code",
   "execution_count": 15,
   "metadata": {},
   "outputs": [],
   "source": [
    "def create_table(): \n",
    "        CURSOR.execute('''\n",
    "            CREATE TABLE IF NOT EXISTS dogs (\n",
    "                id INTEGER PRIMARY KEY,\n",
    "                name TEXT NOT NULL,\n",
    "                breed TEXT NOT NULL\n",
    "            )\n",
    "        ''')\n",
    "        CONN.commit()"
   ]
  },
  {
   "attachments": {},
   "cell_type": "markdown",
   "metadata": {},
   "source": [
    "asdf"
   ]
  },
  {
   "cell_type": "code",
   "execution_count": 7,
   "metadata": {},
   "outputs": [],
   "source": [
    "def drop_table(): \n",
    "        # Class Dog in dog.py contains method \"drop_table()\" that drops table \"dogs\" if it exists\n",
    "        CURSOR.execute('DROP TABLE IF EXISTS dogs')\n",
    "        CONN.commit()"
   ]
  },
  {
   "attachments": {},
   "cell_type": "markdown",
   "metadata": {},
   "source": [
    "asdf"
   ]
  },
  {
   "cell_type": "code",
   "execution_count": 9,
   "metadata": {},
   "outputs": [],
   "source": [
    "def save(self): \n",
    "    CURSOR.execute('INSERT INTO dogs (name, breed) VALUES (?, ?)', (self.name, self.breed))\n",
    "    CONN.commit()\n",
    "    self.id = CURSOR.lastrowid"
   ]
  },
  {
   "attachments": {},
   "cell_type": "markdown",
   "metadata": {},
   "source": [
    "asdf"
   ]
  },
  {
   "cell_type": "code",
   "execution_count": 10,
   "metadata": {},
   "outputs": [],
   "source": [
    "@classmethod\n",
    "def create(cls, name, breed):\n",
    "    dog = cls(name, breed)\n",
    "    dog.save()\n",
    "    return dog"
   ]
  },
  {
   "attachments": {},
   "cell_type": "markdown",
   "metadata": {},
   "source": [
    "asdf"
   ]
  },
  {
   "cell_type": "code",
   "execution_count": 11,
   "metadata": {},
   "outputs": [],
   "source": [
    "@classmethod\n",
    "def new_from_db(cls, row):\n",
    "    id, name, breed = row\n",
    "    dog = cls(name, breed)\n",
    "    dog.id = id\n",
    "    return dog"
   ]
  },
  {
   "attachments": {},
   "cell_type": "markdown",
   "metadata": {},
   "source": [
    "asdf"
   ]
  },
  {
   "cell_type": "code",
   "execution_count": 12,
   "metadata": {},
   "outputs": [],
   "source": [
    "@classmethod\n",
    "def new_from_db(cls, row):\n",
    "    id, name, breed = row\n",
    "    dog = cls(name, breed)\n",
    "    dog.id = id\n",
    "    return dog"
   ]
  },
  {
   "attachments": {},
   "cell_type": "markdown",
   "metadata": {},
   "source": [
    "asdf"
   ]
  },
  {
   "cell_type": "code",
   "execution_count": 13,
   "metadata": {},
   "outputs": [],
   "source": [
    "@staticmethod\n",
    "def get_all():\n",
    "    CURSOR.execute(\"SELECT * FROM dogs\")\n",
    "    rows = CURSOR.fetchall()\n",
    "    dogs = []\n",
    "    for row in rows:\n",
    "        dog = Dog.new_from_db(row)\n",
    "        dogs.append(dog)\n",
    "    return dogs"
   ]
  },
  {
   "attachments": {},
   "cell_type": "markdown",
   "metadata": {},
   "source": [
    "asdf"
   ]
  },
  {
   "cell_type": "code",
   "execution_count": null,
   "metadata": {},
   "outputs": [],
   "source": [
    "@staticmethod\n",
    "def get_all():\n",
    "    CURSOR.execute(\"SELECT * FROM dogs\")\n",
    "    rows = CURSOR.fetchall()\n",
    "    dogs = []\n",
    "    for row in rows:\n",
    "        dog = Dog.new_from_db(row)\n",
    "        dogs.append(dog)\n",
    "    return dogs"
   ]
  },
  {
   "attachments": {},
   "cell_type": "markdown",
   "metadata": {},
   "source": [
    "asdf"
   ]
  },
  {
   "cell_type": "code",
   "execution_count": null,
   "metadata": {},
   "outputs": [],
   "source": [
    "@classmethod\n",
    "def find_by_name(cls, name):\n",
    "    CURSOR.execute('SELECT * FROM dogs WHERE name = ?', (name,))\n",
    "    row = CURSOR.fetchone()\n",
    "    if row:\n",
    "        return cls.new_from_db(row)\n",
    "    else:\n",
    "        return None"
   ]
  },
  {
   "attachments": {},
   "cell_type": "markdown",
   "metadata": {},
   "source": [
    "asdf"
   ]
  },
  {
   "cell_type": "code",
   "execution_count": null,
   "metadata": {},
   "outputs": [],
   "source": [
    "@classmethod\n",
    "def find_by_id(cls, id):\n",
    "    CURSOR.execute('SELECT * FROM dogs WHERE id=?', (id,))\n",
    "    result = CURSOR.fetchone()\n",
    "    if result:\n",
    "        return cls.new_from_db(result)"
   ]
  },
  {
   "attachments": {},
   "cell_type": "markdown",
   "metadata": {},
   "source": [
    "asdf"
   ]
  },
  {
   "cell_type": "code",
   "execution_count": null,
   "metadata": {},
   "outputs": [],
   "source": [
    "@classmethod\n",
    "def find_or_create_by(cls, name, breed):\n",
    "    # Check if the dog already exists in the database\n",
    "    CURSOR.execute('SELECT * FROM dogs WHERE name=? AND breed=?', (name, breed))\n",
    "    row = CURSOR.fetchone()\n",
    "    if row:\n",
    "        # If the dog already exists, return a Dog instance corresponding to that record\n",
    "        return cls.new_from_db(row)\n",
    "    else:\n",
    "        # If the dog doesn't exist, create a new record and return a Dog instance for that record\n",
    "        dog = cls(name, breed)\n",
    "        dog.save()\n",
    "        return dog"
   ]
  },
  {
   "attachments": {},
   "cell_type": "markdown",
   "metadata": {},
   "source": [
    "asdf"
   ]
  },
  {
   "cell_type": "code",
   "execution_count": 14,
   "metadata": {},
   "outputs": [],
   "source": [
    "def update(self):\n",
    "    if self.id is None:\n",
    "        return\n",
    "\n",
    "    CURSOR.execute('UPDATE dogs SET name = ?, breed = ? WHERE id = ?', (self.name, self.breed, self.id))\n",
    "    CONN.commit()"
   ]
  }
 ],
 "metadata": {
  "kernelspec": {
   "display_name": "Python 3",
   "language": "python",
   "name": "python3"
  },
  "language_info": {
   "codemirror_mode": {
    "name": "ipython",
    "version": 3
   },
   "file_extension": ".py",
   "mimetype": "text/x-python",
   "name": "python",
   "nbconvert_exporter": "python",
   "pygments_lexer": "ipython3",
   "version": "3.8.13"
  },
  "orig_nbformat": 4,
  "vscode": {
   "interpreter": {
    "hash": "732ba15880a66f95b243d9dd345d99169de54aa5136374683b22cad081ff286c"
   }
  }
 },
 "nbformat": 4,
 "nbformat_minor": 2
}
